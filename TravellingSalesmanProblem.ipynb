{
  "nbformat": 4,
  "nbformat_minor": 0,
  "metadata": {
    "colab": {
      "name": "TravellingSalesmanProblem.ipynb",
      "provenance": [],
      "collapsed_sections": [],
      "authorship_tag": "ABX9TyOEauTUvv+tHVMd5TvwH2Kc",
      "include_colab_link": true
    },
    "kernelspec": {
      "name": "python3",
      "display_name": "Python 3"
    },
    "language_info": {
      "name": "python"
    }
  },
  "cells": [
    {
      "cell_type": "markdown",
      "metadata": {
        "id": "view-in-github",
        "colab_type": "text"
      },
      "source": [
        "<a href=\"https://colab.research.google.com/github/davekj1/Design-and-Analysis-of-algorithm/blob/main/TravellingSalesmanProblem.ipynb\" target=\"_parent\"><img src=\"https://colab.research.google.com/assets/colab-badge.svg\" alt=\"Open In Colab\"/></a>"
      ]
    },
    {
      "cell_type": "code",
      "metadata": {
        "id": "NJytFlZhXHlh"
      },
      "source": [
        "def TravellingSalesmanProblem(c,s,a,b):\n",
        "  if len(b)==0:\n",
        "    b= [c[a][s],[]]\n",
        "    return b\n",
        "  minValue=float('inf')\n",
        "  min=None\n",
        "  for i in b:\n",
        "    d=TravellingSalesmanProblem(c,s,i,b.difference({i}))\n",
        "    v=c[a][i] + d[0]\n",
        "    if d[1] is not None:\n",
        "      d[1]=d[1]+[i]\n",
        "    if v<minValue:\n",
        "      minValue=v\n",
        "      min=d\n",
        "    \n",
        "  return [minValue,min[1]]"
      ],
      "execution_count": 1,
      "outputs": []
    },
    {
      "cell_type": "code",
      "metadata": {
        "id": "_nESx-HXjRVF"
      },
      "source": [
        "def TFS(c,s,a,b):\n",
        "  res=[]\n",
        "  for i in b:\n",
        "    res.append(TravellingSalesmanProblem(c,s,i,b.difference(i)))\n",
        "  return res\n",
        "    "
      ],
      "execution_count": 2,
      "outputs": []
    },
    {
      "cell_type": "code",
      "metadata": {
        "colab": {
          "base_uri": "https://localhost:8080/"
        },
        "id": "x46x3HNDY4VF",
        "outputId": "2831d668-86f0-43c4-b1f7-54f729b68b59"
      },
      "source": [
        "adj=[[0,10,15,20],[5,0,9,10],[6,13,0,12],[8,8,9,0]]\n",
        "d=0\n",
        "i=0\n",
        "%time\n",
        "while i<=3:\n",
        "  result=TravellingSalesmanProblem(adj,i,i,{0,1,2,3}.difference({i}))\n",
        "  print(\"\\nTravelling cost is \",result[0])\n",
        "  print(\"Path is \")\n",
        "  result[1].insert(0,i)\n",
        "  result[1].append(i)\n",
        "  print(result[1][0],end=' ')\n",
        "  for j in result[1][1:]:\n",
        "    print(\"--->\"+str(j),end='')\n",
        "  i+=1"
      ],
      "execution_count": 25,
      "outputs": [
        {
          "output_type": "stream",
          "text": [
            "CPU times: user 3 µs, sys: 1e+03 ns, total: 4 µs\n",
            "Wall time: 8.34 µs\n",
            "\n",
            "Travelling cost is  35\n",
            "Path is \n",
            "0 --->2--->3--->1--->0\n",
            "Travelling cost is  35\n",
            "Path is \n",
            "1 --->0--->2--->3--->1\n",
            "Travelling cost is  35\n",
            "Path is \n",
            "2 --->3--->1--->0--->2\n",
            "Travelling cost is  35\n",
            "Path is \n",
            "3 --->1--->0--->2--->3"
          ],
          "name": "stdout"
        }
      ]
    },
    {
      "cell_type": "markdown",
      "metadata": {
        "id": "p326CGu0Zqif"
      },
      "source": [
        "## Size 6 array"
      ]
    },
    {
      "cell_type": "code",
      "metadata": {
        "id": "NcFIT1fIY_7A",
        "colab": {
          "base_uri": "https://localhost:8080/"
        },
        "outputId": "009b1fab-b64f-4d24-be45-9d45eaa4f1b2"
      },
      "source": [
        "\n",
        "from random import randint\n",
        "adj=[[randint(0,10) for i in range(6)] for j in range(6)]\n",
        "print(adj)\n",
        "d=0\n",
        "i=0\n",
        "%time\n",
        "while i<=5:\n",
        "  result=TravellingSalesmanProblem(adj,i,i,{0,1,2,3,4,5}.difference({i}))\n",
        "  print(\"\\nTravelling cost is \",result[0])\n",
        "  print(\"Path is \")\n",
        "  result[1].insert(0,i)\n",
        "  result[1].append(i)\n",
        "  print(result[1][0],end=' ')\n",
        "  for j in result[1][1:]:\n",
        "    print(\"--->\"+str(j),end='')\n",
        "  i+=1\n"
      ],
      "execution_count": 26,
      "outputs": [
        {
          "output_type": "stream",
          "text": [
            "[[2, 4, 7, 1, 7, 7], [7, 8, 3, 5, 0, 7], [6, 2, 5, 4, 10, 8], [5, 10, 3, 10, 2, 7], [2, 9, 9, 3, 5, 7], [9, 1, 4, 5, 0, 0]]\n",
            "CPU times: user 4 µs, sys: 1e+03 ns, total: 5 µs\n",
            "Wall time: 10.3 µs\n",
            "\n",
            "Travelling cost is  15\n",
            "Path is \n",
            "0 --->4--->5--->1--->2--->3--->0\n",
            "Travelling cost is  15\n",
            "Path is \n",
            "1 --->5--->2--->3--->0--->4--->1\n",
            "Travelling cost is  15\n",
            "Path is \n",
            "2 --->3--->0--->4--->5--->1--->2\n",
            "Travelling cost is  15\n",
            "Path is \n",
            "3 --->0--->4--->5--->1--->2--->3\n",
            "Travelling cost is  15\n",
            "Path is \n",
            "4 --->5--->1--->2--->3--->0--->4\n",
            "Travelling cost is  15\n",
            "Path is \n",
            "5 --->2--->3--->0--->4--->1--->5"
          ],
          "name": "stdout"
        }
      ]
    },
    {
      "cell_type": "code",
      "metadata": {
        "colab": {
          "base_uri": "https://localhost:8080/"
        },
        "id": "Hiv5W3wbaeYT",
        "outputId": "f8109488-a4c9-4195-fc95-ee755da39e18"
      },
      "source": [
        "adj=[[randint(0,10) for i in range(8)] for j in range(8)]\n",
        "print(adj)\n",
        "d=0\n",
        "i=0\n",
        "%time\n",
        "while i<=7:\n",
        "  result=TravellingSalesmanProblem(adj,i,i,{0,1,2,3,4,5,6,7}.difference({i}))\n",
        "  print(\"\\nTravelling cost is \",result[0])\n",
        "  print(\"Path is \")\n",
        "  result[1].insert(0,i)\n",
        "  result[1].append(i)\n",
        "  print(result[1][0],end=' ')\n",
        "  for j in result[1][1:]:\n",
        "    print(\"--->\"+str(j),end='')\n",
        "  i+=1"
      ],
      "execution_count": 30,
      "outputs": [
        {
          "output_type": "stream",
          "text": [
            "[[2, 2, 4, 6, 9, 4, 8, 9], [4, 6, 7, 6, 9, 9, 8, 2], [8, 3, 3, 3, 6, 3, 4, 10], [8, 8, 7, 1, 10, 10, 7, 6], [9, 1, 2, 8, 4, 9, 3, 3], [4, 4, 5, 5, 10, 10, 10, 8], [5, 6, 6, 0, 8, 5, 4, 8], [10, 2, 4, 5, 8, 1, 1, 8]]\n",
            "CPU times: user 2 µs, sys: 0 ns, total: 2 µs\n",
            "Wall time: 5.01 µs\n",
            "\n",
            "Travelling cost is  24\n",
            "Path is \n",
            "0 --->5--->2--->4--->3--->6--->7--->1--->0\n",
            "Travelling cost is  24\n",
            "Path is \n",
            "1 --->0--->5--->2--->4--->3--->6--->7--->1\n",
            "Travelling cost is  24\n",
            "Path is \n",
            "2 --->4--->3--->6--->7--->1--->0--->5--->2\n",
            "Travelling cost is  24\n",
            "Path is \n",
            "3 --->6--->7--->1--->0--->5--->2--->4--->3\n",
            "Travelling cost is  24\n",
            "Path is \n",
            "4 --->3--->6--->7--->1--->0--->5--->2--->4\n",
            "Travelling cost is  24\n",
            "Path is \n",
            "5 --->2--->4--->3--->6--->7--->1--->0--->5\n",
            "Travelling cost is  24\n",
            "Path is \n",
            "6 --->7--->1--->0--->5--->2--->4--->3--->6\n",
            "Travelling cost is  24\n",
            "Path is \n",
            "7 --->1--->0--->5--->2--->4--->3--->6--->7"
          ],
          "name": "stdout"
        }
      ]
    },
    {
      "cell_type": "code",
      "metadata": {
        "id": "OeLWqyGJbBRY"
      },
      "source": [
        ""
      ],
      "execution_count": null,
      "outputs": []
    }
  ]
}