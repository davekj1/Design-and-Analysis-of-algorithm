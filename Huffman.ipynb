{
  "nbformat": 4,
  "nbformat_minor": 0,
  "metadata": {
    "colab": {
      "name": "Huffman.ipynb",
      "provenance": [],
      "collapsed_sections": [],
      "mount_file_id": "1Ewh7G54MU4vbaWlbTrhIq9VHCFalpz8X",
      "authorship_tag": "ABX9TyPA7SBKLJWMNfG7+Ryx63iQ",
      "include_colab_link": true
    },
    "kernelspec": {
      "name": "python3",
      "display_name": "Python 3"
    },
    "language_info": {
      "name": "python"
    }
  },
  "cells": [
    {
      "cell_type": "markdown",
      "metadata": {
        "id": "view-in-github",
        "colab_type": "text"
      },
      "source": [
        "<a href=\"https://colab.research.google.com/github/davekj1/Design-and-Analysis-of-algorithm/blob/main/Huffman.ipynb\" target=\"_parent\"><img src=\"https://colab.research.google.com/assets/colab-badge.svg\" alt=\"Open In Colab\"/></a>"
      ]
    },
    {
      "cell_type": "markdown",
      "metadata": {
        "id": "1n-C0bjg9MWk"
      },
      "source": [
        "# **Part 1**\n",
        "**Huffmann Coding on Paragraph**"
      ]
    },
    {
      "cell_type": "code",
      "metadata": {
        "colab": {
          "base_uri": "https://localhost:8080/"
        },
        "id": "kBB6Soak9L8v",
        "outputId": "b7b0bd8e-c43d-4e61-a194-33b2f7006626"
      },
      "source": [
        "import time\n",
        "class Node:\n",
        "  def __init__(self,a,b):\n",
        "    self.char=a\n",
        "    self.value=b\n",
        "    self.right=None\n",
        "    self.left=None\n",
        "def HuffmanTree(arr):\n",
        "  if len(arr)==1:\n",
        "    return arr\n",
        "  arr.sort(key=lambda x:x.value)\n",
        "  i=arr[0]\n",
        "  j=arr[1]\n",
        "  a=Node('i',i.value+j.value)\n",
        "  if i.value<j.value:\n",
        "    a.left=i\n",
        "    a.right=j\n",
        "  else:\n",
        "    a.right=j\n",
        "    a.left=i\n",
        "  arr.remove(i)\n",
        "  arr.remove(j)\n",
        "  arr.append(a)\n",
        "  return HuffmanTree(arr)\n",
        "cost_original=0\n",
        "st=\"English Essay Writing – On this page, you will find Essays in English, Latest Essay Topics, examples and format for essay writing. What exactly is essay writing?. Essay are short pieces of writing with a focus on a single subject. It starts with the introduction of the subject, followed by a middle or body in which the author gives his argument as per his understanding of the subject followed by a conclusion paragraph that summarises the findings of the essay.\"\n",
        "b=set()\n",
        "arr=[]\n",
        "start=time.time()\n",
        "for i in st:\n",
        "  cost_original+=7\n",
        "  if i in b:\n",
        "    continue\n",
        "  arr.append(Node(i,7))\n",
        "  b.add(i)\n",
        "end=time.time()\n",
        "print(\"Time required for ascii is \",end-start)\n",
        "start1=time.time()\n",
        "start=HuffmanTree(arr)[0]\n",
        "print(\"Cost Originally is \",cost_original)\n",
        "cost=0\n",
        "huffcodes=dict()\n",
        "def traverse(start,a):\n",
        "  global cost\n",
        "  if start.left==None and start.right==None:\n",
        "    huffcodes[start.char]=a[1:]\n",
        "    return \n",
        "  traverse(start.left,a+'0')\n",
        "  traverse(start.right,a+'1')\n",
        "traverse(start,'0')\n",
        "print(\"The generated huffman codes are\")\n",
        "print(\"-------------------------------------------------------------------------------------------------------------------------------------------------------------\")\n",
        "for i in list(huffcodes.items()):\n",
        "  print(i,end=\" | \")\n",
        "print(\"\\n--------------------------------------------------------------------------------------------------------------------------------------------------------------\")\n",
        "for i in st:\n",
        "  cost+=len(huffcodes[i])\n",
        "end=time.time()\n",
        "print(\"Time required for huffman coding\",end-start1)\n",
        "print(\"Cost required is\",cost)"
      ],
      "execution_count": 29,
      "outputs": [
        {
          "output_type": "stream",
          "text": [
            "Time required for ascii is  0.0003447532653808594\n",
            "Cost Originally is  3248\n",
            "The generated huffman codes are\n",
            "-------------------------------------------------------------------------------------------------------------------------------------------------------------\n",
            "('i', '00000') | ('s', '00001') | ('h', '00010') | (' ', '00011') | ('a', '00100') | ('y', '00101') | ('W', '00110') | ('r', '00111') | ('t', '01000') | ('–', '01001') | ('O', '01010') | ('p', '01011') | ('e', '01100') | (',', '01101') | ('o', '01110') | ('u', '01111') | ('w', '10000') | ('f', '10001') | ('d', '10010') | ('L', '10011') | ('T', '10100') | ('c', '10101') | ('x', '10110') | ('m', '10111') | ('.', '11000') | ('?', '11001') | ('b', '11010') | ('j', '11011') | ('I', '11100') | ('v', '11101') | ('E', '111100') | ('n', '111101') | ('g', '111110') | ('l', '111111') | \n",
            "--------------------------------------------------------------------------------------------------------------------------------------------------------------\n",
            "Time required for huffman coding 0.006605625152587891\n",
            "Cost required is 2375\n"
          ],
          "name": "stdout"
        }
      ]
    },
    {
      "cell_type": "markdown",
      "metadata": {
        "id": "0V9uHp8I9e3H"
      },
      "source": [
        "# **Part 2**\n",
        "**Using speech recognition**"
      ]
    },
    {
      "cell_type": "code",
      "metadata": {
        "colab": {
          "base_uri": "https://localhost:8080/"
        },
        "id": "AKhUkUzJ9XP8",
        "outputId": "f015eb7e-8f71-4d40-a5d5-24045badfc8a"
      },
      "source": [
        "#Install speechrecognition module\n",
        "!pip install SpeechRecognition"
      ],
      "execution_count": 18,
      "outputs": [
        {
          "output_type": "stream",
          "text": [
            "Requirement already satisfied: SpeechRecognition in /usr/local/lib/python3.7/dist-packages (3.8.1)\n"
          ],
          "name": "stdout"
        }
      ]
    },
    {
      "cell_type": "code",
      "metadata": {
        "id": "-fWyet-v9eYc"
      },
      "source": [
        "import speech_recognition as sr\n",
        "def speechToText(filename):\n",
        "  r = sr.Recognizer()\n",
        "  # open the file\n",
        "  with sr.AudioFile(filename) as source:\n",
        "      # listen for the data (load audio to memory)\n",
        "      audio_data = r.record(source)\n",
        "      # recognize (convert from speech to text)\n",
        "      text = r.recognize_google(audio_data)\n",
        "      return text"
      ],
      "execution_count": 7,
      "outputs": []
    },
    {
      "cell_type": "code",
      "metadata": {
        "id": "di-YLRMjCX-u"
      },
      "source": [
        "def ascii_code(i):\n",
        "  count=0\n",
        "  for j in i:\n",
        "    count+=7\n",
        "  return count"
      ],
      "execution_count": 8,
      "outputs": []
    },
    {
      "cell_type": "code",
      "metadata": {
        "id": "_dcvWWFQCwXi"
      },
      "source": [
        "def huff_code(i):\n",
        "  arr=[]\n",
        "  cost=0\n",
        "  b=set()\n",
        "  for j in i:\n",
        "    if j in b:\n",
        "      continue\n",
        "    b.add(j)\n",
        "    arr.append(Node(j,7))\n",
        "  b=HuffmanTree(arr)[0]\n",
        "  traverse(b,'0')\n",
        "  for j in i:\n",
        "    cost+=len(huffcodes[j])\n",
        "  return cost"
      ],
      "execution_count": 9,
      "outputs": []
    },
    {
      "cell_type": "code",
      "metadata": {
        "colab": {
          "base_uri": "https://localhost:8080/"
        },
        "id": "ZcIQoms9_r_j",
        "outputId": "f90b713b-4e8a-4a4e-cd24-ac2c0bf6a368"
      },
      "source": [
        "filenames=['Dialog1.wav','Dialog2.wav','Dialog3.wav','Dialog4.wav','Dialog5.wav','Dialog6.wav']\n",
        "for i in filenames:\n",
        "  b=speechToText(\"drive/MyDrive/\"+i)\n",
        "  print(i+\":\"+b)\n",
        "  %time c=ascii_code(b)\n",
        "  print(\"Space required for ascii code\",c)\n",
        "  %time d=huff_code(b)\n",
        "  print(\"Space required for huffman code\",d)\n",
        "  print(\"-----------------------------------------------------\")"
      ],
      "execution_count": 25,
      "outputs": [
        {
          "output_type": "stream",
          "text": [
            "Dialog1.wav:what is time now\n",
            "CPU times: user 6 µs, sys: 1 µs, total: 7 µs\n",
            "Wall time: 10.7 µs\n",
            "Space required for ascii code 112\n",
            "CPU times: user 63 µs, sys: 11 µs, total: 74 µs\n",
            "Wall time: 75.3 µs\n",
            "Space required for huffman code 59\n",
            "-----------------------------------------------------\n",
            "Dialog2.wav:time is 10 a.m. currently\n",
            "CPU times: user 8 µs, sys: 2 µs, total: 10 µs\n",
            "Wall time: 12.4 µs\n",
            "Space required for ascii code 175\n",
            "CPU times: user 98 µs, sys: 17 µs, total: 115 µs\n",
            "Wall time: 119 µs\n",
            "Space required for huffman code 100\n",
            "-----------------------------------------------------\n",
            "Dialog3.wav:when is the next lecture\n",
            "CPU times: user 7 µs, sys: 1 µs, total: 8 µs\n",
            "Wall time: 11.4 µs\n",
            "Space required for ascii code 168\n",
            "CPU times: user 120 µs, sys: 0 ns, total: 120 µs\n",
            "Wall time: 124 µs\n",
            "Space required for huffman code 93\n",
            "-----------------------------------------------------\n",
            "Dialog4.wav:next lecture is on Thursday\n",
            "CPU times: user 7 µs, sys: 1 µs, total: 8 µs\n",
            "Wall time: 11.7 µs\n",
            "Space required for ascii code 189\n",
            "CPU times: user 93 µs, sys: 16 µs, total: 109 µs\n",
            "Wall time: 112 µs\n",
            "Space required for huffman code 113\n",
            "-----------------------------------------------------\n",
            "Dialog5.wav:when do we have submit the assignment\n",
            "CPU times: user 9 µs, sys: 1 µs, total: 10 µs\n",
            "Wall time: 13.4 µs\n",
            "Space required for ascii code 259\n",
            "CPU times: user 101 µs, sys: 0 ns, total: 101 µs\n",
            "Wall time: 104 µs\n",
            "Space required for huffman code 148\n",
            "-----------------------------------------------------\n",
            "Dialog6.wav:you have to submit the assignment by tomorrow\n",
            "CPU times: user 10 µs, sys: 2 µs, total: 12 µs\n",
            "Wall time: 14.8 µs\n",
            "Space required for ascii code 315\n",
            "CPU times: user 106 µs, sys: 0 ns, total: 106 µs\n",
            "Wall time: 108 µs\n",
            "Space required for huffman code 187\n",
            "-----------------------------------------------------\n"
          ],
          "name": "stdout"
        }
      ]
    },
    {
      "cell_type": "markdown",
      "metadata": {
        "id": "USOLICcKUSka"
      },
      "source": [
        "# **Part 3**\n",
        "**Each letter at least 20 times and #words>100**"
      ]
    },
    {
      "cell_type": "code",
      "metadata": {
        "colab": {
          "base_uri": "https://localhost:8080/"
        },
        "id": "ejBbdEwEURV7",
        "outputId": "645b703f-cf6e-40d9-b496-6e4ad85ae6ef"
      },
      "source": [
        "f = open(\"RandomGenerator.txt\", \"r\")\n",
        "b=f.read()\n",
        "print(len(b))"
      ],
      "execution_count": 19,
      "outputs": [
        {
          "output_type": "stream",
          "text": [
            "6590\n"
          ],
          "name": "stdout"
        }
      ]
    },
    {
      "cell_type": "code",
      "metadata": {
        "colab": {
          "base_uri": "https://localhost:8080/"
        },
        "id": "aM-JrhxwViEF",
        "outputId": "84a61c6f-7ba3-49f9-c1d6-dbaa4184a09a"
      },
      "source": [
        "%time print(\"Space required for ascii code\",ascii_code(b))\n",
        "print(huffcodes)\n",
        "%time print(\"Space required for huffman code\",huff_code(b))"
      ],
      "execution_count": 20,
      "outputs": [
        {
          "output_type": "stream",
          "text": [
            "Space required for ascii code 46130\n",
            "CPU times: user 2.35 ms, sys: 0 ns, total: 2.35 ms\n",
            "Wall time: 2.3 ms\n",
            "{'i': '00000', 's': '00001', 'h': '00010', ' ': '00011', 'a': '00100', 'y': '00101', 'W': '00110', 'r': '00111', 't': '01000', '–': '01001', 'O': '01010', 'p': '01011', 'e': '01100', ',': '01101', 'o': '01110', 'u': '01111', 'w': '10000', 'f': '10001', 'd': '10010', 'L': '10011', 'T': '10100', 'c': '10101', 'x': '10110', 'm': '10111', '.': '11000', '?': '11001', 'b': '11010', 'j': '11011', 'I': '11100', 'v': '11101', 'E': '111100', 'n': '111101', 'g': '111110', 'l': '111111'}\n",
            "Space required for huffman code 39123\n",
            "CPU times: user 4.96 ms, sys: 0 ns, total: 4.96 ms\n",
            "Wall time: 5.07 ms\n"
          ],
          "name": "stdout"
        }
      ]
    },
    {
      "cell_type": "code",
      "metadata": {
        "id": "08pt0IPggP7o"
      },
      "source": [
        ""
      ],
      "execution_count": null,
      "outputs": []
    }
  ]
}